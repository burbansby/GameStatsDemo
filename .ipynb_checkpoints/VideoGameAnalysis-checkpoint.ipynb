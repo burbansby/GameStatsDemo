{
 "cells": [
  {
   "cell_type": "markdown",
   "metadata": {},
   "source": [
    "<h1><center>Predicting Video Game Success</center></h1>\n",
    "<center>Ben Urban</center>\n",
    "\n",
    "![image](consoles.jpg)\n",
    "\n",
    "<h2>Introduction</h2>\n",
    "The video game industry is one of the fastest growing forms of entertainment out there right now. Hundreds of new games are released every year all with different styles across multiple platforms. Some games are absolute masterpieces and loved by millions, while others get no attention at all. All developers have the same thought on their mind: \"How can I make the best game possible?\"\n",
    "\n",
    "In this tutorial we will collect data about video games past, and see how we can use developer's decisions before us, to give reasoning to how their games performed. If we can develop a strong relationship between developer decisions and game performance, we will be able to accurately predict how future games will perform before they are even released. We can use this knowlege as developers to design a game with the highest probability of success.\n",
    "    \n",
    "<h2> Part 1: Data Collection</h2>"
   ]
  },
  {
   "cell_type": "code",
   "execution_count": 1,
   "metadata": {},
   "outputs": [],
   "source": [
    "#Libraries needed to proceed\n",
    "import pandas as pd\n",
    "import numpy as np\n",
    "import matplotlib.pyplot as plt\n",
    "from sklearn.linear_model import LinearRegression"
   ]
  },
  {
   "cell_type": "markdown",
   "metadata": {},
   "source": [
    "This data is rounded up from a csv file that can be found <a href = \"https://corgis-edu.github.io/corgis/csv/video_games/\">here</a>. This dataset provides information for over a thousand games released from 2004 to 2008. Unfortunately that 5 year range was 12-16 years ago from today, so it may be difficult to base decions for the future off 12 year old data, but it can still provide valuable information. This data also does not include PC releases for games so we will only be exploring from a console development perspective\n",
    "\n",
    "The first thing we need to is import the data into a Pandas dataframe. After that we can clean up the table to only provide the information that we need. We will also generalize the platform of the game's release to the console's parent company. This is because current games are very rarely produced for any of the consoles listed in the table, however these companies still have the leading consoles on the market today\n",
    "\n",
    "***Games with multiple genres and platform releases will be duplicated so that they can be applied to multiple categories. For example, a 2 genre game on 2 platforms will appear 4 total times so that all platform and genre combinations appear "
   ]
  },
  {
   "cell_type": "code",
   "execution_count": 2,
   "metadata": {},
   "outputs": [
    {
     "ename": "FileNotFoundError",
     "evalue": "[Errno 2] File resources/video_games.csv does not exist: 'resources/video_games.csv'",
     "output_type": "error",
     "traceback": [
      "\u001b[1;31m---------------------------------------------------------------------------\u001b[0m",
      "\u001b[1;31mFileNotFoundError\u001b[0m                         Traceback (most recent call last)",
      "\u001b[1;32m<ipython-input-2-f19e2a125725>\u001b[0m in \u001b[0;36m<module>\u001b[1;34m\u001b[0m\n\u001b[0;32m      1\u001b[0m \u001b[1;31m#Ipmort Data from CSV\u001b[0m\u001b[1;33m\u001b[0m\u001b[1;33m\u001b[0m\u001b[1;33m\u001b[0m\u001b[0m\n\u001b[1;32m----> 2\u001b[1;33m \u001b[0mdata\u001b[0m \u001b[1;33m=\u001b[0m \u001b[0mpd\u001b[0m\u001b[1;33m.\u001b[0m\u001b[0mread_csv\u001b[0m\u001b[1;33m(\u001b[0m\u001b[1;34m\"resources/video_games.csv\"\u001b[0m\u001b[1;33m)\u001b[0m\u001b[1;33m\u001b[0m\u001b[1;33m\u001b[0m\u001b[0m\n\u001b[0m\u001b[0;32m      3\u001b[0m \u001b[1;33m\u001b[0m\u001b[0m\n\u001b[0;32m      4\u001b[0m \u001b[1;31m#Drop unused data\u001b[0m\u001b[1;33m\u001b[0m\u001b[1;33m\u001b[0m\u001b[1;33m\u001b[0m\u001b[0m\n\u001b[0;32m      5\u001b[0m \u001b[0mdata\u001b[0m \u001b[1;33m=\u001b[0m \u001b[0mdata\u001b[0m\u001b[1;33m.\u001b[0m\u001b[0mdrop\u001b[0m\u001b[1;33m(\u001b[0m\u001b[0mdata\u001b[0m\u001b[1;33m.\u001b[0m\u001b[0mcolumns\u001b[0m\u001b[1;33m[\u001b[0m\u001b[1;33m[\u001b[0m\u001b[1;36m1\u001b[0m\u001b[1;33m,\u001b[0m\u001b[1;36m3\u001b[0m\u001b[1;33m,\u001b[0m\u001b[1;36m4\u001b[0m\u001b[1;33m,\u001b[0m\u001b[1;36m6\u001b[0m\u001b[1;33m,\u001b[0m\u001b[1;36m7\u001b[0m\u001b[1;33m,\u001b[0m\u001b[1;36m8\u001b[0m\u001b[1;33m,\u001b[0m\u001b[1;36m11\u001b[0m\u001b[1;33m,\u001b[0m\u001b[1;36m13\u001b[0m\u001b[1;33m,\u001b[0m\u001b[1;36m14\u001b[0m\u001b[1;33m,\u001b[0m\u001b[1;36m17\u001b[0m\u001b[1;33m,\u001b[0m\u001b[1;36m18\u001b[0m\u001b[1;33m,\u001b[0m\u001b[1;36m19\u001b[0m\u001b[1;33m,\u001b[0m\u001b[1;36m20\u001b[0m\u001b[1;33m,\u001b[0m\u001b[1;36m21\u001b[0m\u001b[1;33m,\u001b[0m\u001b[1;36m22\u001b[0m\u001b[1;33m,\u001b[0m\u001b[1;36m23\u001b[0m\u001b[1;33m,\u001b[0m\u001b[1;36m24\u001b[0m\u001b[1;33m,\u001b[0m\u001b[1;36m25\u001b[0m\u001b[1;33m,\u001b[0m\u001b[1;36m26\u001b[0m\u001b[1;33m,\u001b[0m\u001b[1;36m27\u001b[0m\u001b[1;33m,\u001b[0m\u001b[1;36m28\u001b[0m\u001b[1;33m,\u001b[0m\u001b[1;36m29\u001b[0m\u001b[1;33m,\u001b[0m\u001b[1;36m30\u001b[0m\u001b[1;33m,\u001b[0m\u001b[1;36m31\u001b[0m\u001b[1;33m,\u001b[0m\u001b[1;36m32\u001b[0m\u001b[1;33m,\u001b[0m\u001b[1;36m33\u001b[0m\u001b[1;33m,\u001b[0m\u001b[1;36m34\u001b[0m\u001b[1;33m,\u001b[0m\u001b[1;36m35\u001b[0m\u001b[1;33m]\u001b[0m\u001b[1;33m]\u001b[0m\u001b[1;33m,\u001b[0m\u001b[0maxis\u001b[0m \u001b[1;33m=\u001b[0m \u001b[1;36m1\u001b[0m\u001b[1;33m)\u001b[0m\u001b[1;33m\u001b[0m\u001b[1;33m\u001b[0m\u001b[0m\n",
      "\u001b[1;32mc:\\python38\\lib\\site-packages\\pandas\\io\\parsers.py\u001b[0m in \u001b[0;36mparser_f\u001b[1;34m(filepath_or_buffer, sep, delimiter, header, names, index_col, usecols, squeeze, prefix, mangle_dupe_cols, dtype, engine, converters, true_values, false_values, skipinitialspace, skiprows, skipfooter, nrows, na_values, keep_default_na, na_filter, verbose, skip_blank_lines, parse_dates, infer_datetime_format, keep_date_col, date_parser, dayfirst, cache_dates, iterator, chunksize, compression, thousands, decimal, lineterminator, quotechar, quoting, doublequote, escapechar, comment, encoding, dialect, error_bad_lines, warn_bad_lines, delim_whitespace, low_memory, memory_map, float_precision)\u001b[0m\n\u001b[0;32m    674\u001b[0m         )\n\u001b[0;32m    675\u001b[0m \u001b[1;33m\u001b[0m\u001b[0m\n\u001b[1;32m--> 676\u001b[1;33m         \u001b[1;32mreturn\u001b[0m \u001b[0m_read\u001b[0m\u001b[1;33m(\u001b[0m\u001b[0mfilepath_or_buffer\u001b[0m\u001b[1;33m,\u001b[0m \u001b[0mkwds\u001b[0m\u001b[1;33m)\u001b[0m\u001b[1;33m\u001b[0m\u001b[1;33m\u001b[0m\u001b[0m\n\u001b[0m\u001b[0;32m    677\u001b[0m \u001b[1;33m\u001b[0m\u001b[0m\n\u001b[0;32m    678\u001b[0m     \u001b[0mparser_f\u001b[0m\u001b[1;33m.\u001b[0m\u001b[0m__name__\u001b[0m \u001b[1;33m=\u001b[0m \u001b[0mname\u001b[0m\u001b[1;33m\u001b[0m\u001b[1;33m\u001b[0m\u001b[0m\n",
      "\u001b[1;32mc:\\python38\\lib\\site-packages\\pandas\\io\\parsers.py\u001b[0m in \u001b[0;36m_read\u001b[1;34m(filepath_or_buffer, kwds)\u001b[0m\n\u001b[0;32m    446\u001b[0m \u001b[1;33m\u001b[0m\u001b[0m\n\u001b[0;32m    447\u001b[0m     \u001b[1;31m# Create the parser.\u001b[0m\u001b[1;33m\u001b[0m\u001b[1;33m\u001b[0m\u001b[1;33m\u001b[0m\u001b[0m\n\u001b[1;32m--> 448\u001b[1;33m     \u001b[0mparser\u001b[0m \u001b[1;33m=\u001b[0m \u001b[0mTextFileReader\u001b[0m\u001b[1;33m(\u001b[0m\u001b[0mfp_or_buf\u001b[0m\u001b[1;33m,\u001b[0m \u001b[1;33m**\u001b[0m\u001b[0mkwds\u001b[0m\u001b[1;33m)\u001b[0m\u001b[1;33m\u001b[0m\u001b[1;33m\u001b[0m\u001b[0m\n\u001b[0m\u001b[0;32m    449\u001b[0m \u001b[1;33m\u001b[0m\u001b[0m\n\u001b[0;32m    450\u001b[0m     \u001b[1;32mif\u001b[0m \u001b[0mchunksize\u001b[0m \u001b[1;32mor\u001b[0m \u001b[0miterator\u001b[0m\u001b[1;33m:\u001b[0m\u001b[1;33m\u001b[0m\u001b[1;33m\u001b[0m\u001b[0m\n",
      "\u001b[1;32mc:\\python38\\lib\\site-packages\\pandas\\io\\parsers.py\u001b[0m in \u001b[0;36m__init__\u001b[1;34m(self, f, engine, **kwds)\u001b[0m\n\u001b[0;32m    878\u001b[0m             \u001b[0mself\u001b[0m\u001b[1;33m.\u001b[0m\u001b[0moptions\u001b[0m\u001b[1;33m[\u001b[0m\u001b[1;34m\"has_index_names\"\u001b[0m\u001b[1;33m]\u001b[0m \u001b[1;33m=\u001b[0m \u001b[0mkwds\u001b[0m\u001b[1;33m[\u001b[0m\u001b[1;34m\"has_index_names\"\u001b[0m\u001b[1;33m]\u001b[0m\u001b[1;33m\u001b[0m\u001b[1;33m\u001b[0m\u001b[0m\n\u001b[0;32m    879\u001b[0m \u001b[1;33m\u001b[0m\u001b[0m\n\u001b[1;32m--> 880\u001b[1;33m         \u001b[0mself\u001b[0m\u001b[1;33m.\u001b[0m\u001b[0m_make_engine\u001b[0m\u001b[1;33m(\u001b[0m\u001b[0mself\u001b[0m\u001b[1;33m.\u001b[0m\u001b[0mengine\u001b[0m\u001b[1;33m)\u001b[0m\u001b[1;33m\u001b[0m\u001b[1;33m\u001b[0m\u001b[0m\n\u001b[0m\u001b[0;32m    881\u001b[0m \u001b[1;33m\u001b[0m\u001b[0m\n\u001b[0;32m    882\u001b[0m     \u001b[1;32mdef\u001b[0m \u001b[0mclose\u001b[0m\u001b[1;33m(\u001b[0m\u001b[0mself\u001b[0m\u001b[1;33m)\u001b[0m\u001b[1;33m:\u001b[0m\u001b[1;33m\u001b[0m\u001b[1;33m\u001b[0m\u001b[0m\n",
      "\u001b[1;32mc:\\python38\\lib\\site-packages\\pandas\\io\\parsers.py\u001b[0m in \u001b[0;36m_make_engine\u001b[1;34m(self, engine)\u001b[0m\n\u001b[0;32m   1112\u001b[0m     \u001b[1;32mdef\u001b[0m \u001b[0m_make_engine\u001b[0m\u001b[1;33m(\u001b[0m\u001b[0mself\u001b[0m\u001b[1;33m,\u001b[0m \u001b[0mengine\u001b[0m\u001b[1;33m=\u001b[0m\u001b[1;34m\"c\"\u001b[0m\u001b[1;33m)\u001b[0m\u001b[1;33m:\u001b[0m\u001b[1;33m\u001b[0m\u001b[1;33m\u001b[0m\u001b[0m\n\u001b[0;32m   1113\u001b[0m         \u001b[1;32mif\u001b[0m \u001b[0mengine\u001b[0m \u001b[1;33m==\u001b[0m \u001b[1;34m\"c\"\u001b[0m\u001b[1;33m:\u001b[0m\u001b[1;33m\u001b[0m\u001b[1;33m\u001b[0m\u001b[0m\n\u001b[1;32m-> 1114\u001b[1;33m             \u001b[0mself\u001b[0m\u001b[1;33m.\u001b[0m\u001b[0m_engine\u001b[0m \u001b[1;33m=\u001b[0m \u001b[0mCParserWrapper\u001b[0m\u001b[1;33m(\u001b[0m\u001b[0mself\u001b[0m\u001b[1;33m.\u001b[0m\u001b[0mf\u001b[0m\u001b[1;33m,\u001b[0m \u001b[1;33m**\u001b[0m\u001b[0mself\u001b[0m\u001b[1;33m.\u001b[0m\u001b[0moptions\u001b[0m\u001b[1;33m)\u001b[0m\u001b[1;33m\u001b[0m\u001b[1;33m\u001b[0m\u001b[0m\n\u001b[0m\u001b[0;32m   1115\u001b[0m         \u001b[1;32melse\u001b[0m\u001b[1;33m:\u001b[0m\u001b[1;33m\u001b[0m\u001b[1;33m\u001b[0m\u001b[0m\n\u001b[0;32m   1116\u001b[0m             \u001b[1;32mif\u001b[0m \u001b[0mengine\u001b[0m \u001b[1;33m==\u001b[0m \u001b[1;34m\"python\"\u001b[0m\u001b[1;33m:\u001b[0m\u001b[1;33m\u001b[0m\u001b[1;33m\u001b[0m\u001b[0m\n",
      "\u001b[1;32mc:\\python38\\lib\\site-packages\\pandas\\io\\parsers.py\u001b[0m in \u001b[0;36m__init__\u001b[1;34m(self, src, **kwds)\u001b[0m\n\u001b[0;32m   1889\u001b[0m         \u001b[0mkwds\u001b[0m\u001b[1;33m[\u001b[0m\u001b[1;34m\"usecols\"\u001b[0m\u001b[1;33m]\u001b[0m \u001b[1;33m=\u001b[0m \u001b[0mself\u001b[0m\u001b[1;33m.\u001b[0m\u001b[0musecols\u001b[0m\u001b[1;33m\u001b[0m\u001b[1;33m\u001b[0m\u001b[0m\n\u001b[0;32m   1890\u001b[0m \u001b[1;33m\u001b[0m\u001b[0m\n\u001b[1;32m-> 1891\u001b[1;33m         \u001b[0mself\u001b[0m\u001b[1;33m.\u001b[0m\u001b[0m_reader\u001b[0m \u001b[1;33m=\u001b[0m \u001b[0mparsers\u001b[0m\u001b[1;33m.\u001b[0m\u001b[0mTextReader\u001b[0m\u001b[1;33m(\u001b[0m\u001b[0msrc\u001b[0m\u001b[1;33m,\u001b[0m \u001b[1;33m**\u001b[0m\u001b[0mkwds\u001b[0m\u001b[1;33m)\u001b[0m\u001b[1;33m\u001b[0m\u001b[1;33m\u001b[0m\u001b[0m\n\u001b[0m\u001b[0;32m   1892\u001b[0m         \u001b[0mself\u001b[0m\u001b[1;33m.\u001b[0m\u001b[0munnamed_cols\u001b[0m \u001b[1;33m=\u001b[0m \u001b[0mself\u001b[0m\u001b[1;33m.\u001b[0m\u001b[0m_reader\u001b[0m\u001b[1;33m.\u001b[0m\u001b[0munnamed_cols\u001b[0m\u001b[1;33m\u001b[0m\u001b[1;33m\u001b[0m\u001b[0m\n\u001b[0;32m   1893\u001b[0m \u001b[1;33m\u001b[0m\u001b[0m\n",
      "\u001b[1;32mpandas\\_libs\\parsers.pyx\u001b[0m in \u001b[0;36mpandas._libs.parsers.TextReader.__cinit__\u001b[1;34m()\u001b[0m\n",
      "\u001b[1;32mpandas\\_libs\\parsers.pyx\u001b[0m in \u001b[0;36mpandas._libs.parsers.TextReader._setup_parser_source\u001b[1;34m()\u001b[0m\n",
      "\u001b[1;31mFileNotFoundError\u001b[0m: [Errno 2] File resources/video_games.csv does not exist: 'resources/video_games.csv'"
     ]
    }
   ],
   "source": [
    "#Ipmort Data from CSV\n",
    "data = pd.read_csv(\"resources/video_games.csv\")\n",
    "\n",
    "#Drop unused data\n",
    "data = data.drop(data.columns[[1,3,4,6,7,8,11,13,14,17,18,19,20,21,22,23,24,25,26,27,28,29,30,31,32,33,34,35]],axis = 1)\n",
    "\n",
    "#Rename and Reorder Columns\n",
    "data = data.rename(columns={\"Features.Max Players\": \"Players\", \"Metadata.Genres\": \"Genre\", \"Metrics.Review Score\" : \"Score\",\\\n",
    "                           \"Metrics.Sales\": \"Sales\", \"Release.Console\": \"Platform\", \"Release.Year\": \"Year\",\\\n",
    "                           \"Length.All PlayStyles.Average\": \"Playtime\"})\n",
    "data = data[['Title', 'Year','Platform','Genre','Players','Score','Sales','Playtime']]\n",
    "\n",
    "#Drop Rows with missing data\n",
    "data = data[data.Playtime != 0]\n",
    "\n",
    "#Generalize Platform\n",
    "data = data.replace(\"Nintendo DS\", \"Nintendo\")\n",
    "data = data.replace(\"Nintendo Wii\", \"Nintendo\")\n",
    "data = data.replace(\"Sony PSP\", \"Playstation\")\n",
    "data = data.replace(\"X360\", \"Xbox\")\n",
    "data = data.replace(\"PlayStation 3\", \"Playstation\")\n",
    "\n",
    "#Max out all games with more than 4 players at 4 because of low sample size\n",
    "data = data.replace(6, 4)\n",
    "data = data.replace(7, 4)\n",
    "data = data.replace(8, 4)\n",
    "\n",
    "#Split game's list of genres into muliple separate games with 1 genre\n",
    "data['Genre'] = data['Genre'].str.split(\",\")\n",
    "\n",
    "data = pd.DataFrame({\n",
    "      col:np.repeat(data[col].values, data['Genre'].str.len())\n",
    "      for col in data.columns.drop('Genre')}\n",
    "    ).assign(**{'Genre':np.concatenate(data['Genre'].values)})[data.columns]\n",
    "\n",
    "#Sort alphabetically and display preview\n",
    "data = data.sort_values('Title')\n",
    "data"
   ]
  },
  {
   "cell_type": "markdown",
   "metadata": {},
   "source": [
    "<h2>Part 2: Analysis</h2>\n",
    "Now the data is cleaned up and ready to be analyzed. There are 7 metrics we can now use to compare our games:  \n",
    "<ol>\n",
    "    <li>Year Released</li>\n",
    "    <li>Platform the game was released on</li>\n",
    "    <li>Game genre</li>\n",
    "    <li>Number of players that the game supports (1, 2, or 4+)</li>\n",
    "    <li>Score the game was given by reviewers (Metacritic)</li>\n",
    "    <li>The game's total sales (in millions of dollars)</li>\n",
    "    <li>Average playtime by its playerbase (hours)</li>\n",
    "</ol>\n",
    "\n",
    "The first 4 of these are independant variables in our data. These are conscious decisions made by the developers when they made their game, as well as factors that future developers can take into account when making their games. Since release year is not really a controllable factor other than delaying or rushing a game's development we will use that for something a little later and focus on the other 3. The remaining 3 metrics are the dependant variables in this situation. These are statistics based on how players reacted to the game. They can not be controlled by the developers, but understanding how to improve them is crucial to game development. A developer's end goal is to produce a game with the highest critic score, sales numbers, and player involvement as possible.   \n",
    "\n",
    "The first thing we can do to recognize a pattern is test how the controlable factors of a game (Platform, Genre, Max Players) influence the results of the 3 performance metrics(Critic Score, Sales, Average Playtime). To do this we need to analyze the 3 independant variables one at a time. We can separate the data by the independent variable we want to focus on, then make a boxplot for how the games categories perform. We can start by separating the games by platform, and making 3 separate boxplots to measure how each of ther performance metrics change."
   ]
  },
  {
   "cell_type": "code",
   "execution_count": null,
   "metadata": {},
   "outputs": [],
   "source": [
    "#Make bxplots of score, sales, and playtime separated by platform\n",
    "#Not displaying outliers to make plots readable since we wnat to focus on averages\n",
    "data.boxplot(column = ['Score'], by = 'Platform', showfliers = False)\n",
    "data.boxplot(column = ['Sales'], by = 'Platform', showfliers = False)\n",
    "data.boxplot(column = ['Playtime'], by = 'Platform', showfliers = False)\n",
    "plt.show()\n"
   ]
  },
  {
   "cell_type": "markdown",
   "metadata": {},
   "source": [
    "After looking at these plots you can see that Xbox games, on average, tend to sell more and have a longer lifespan than their Nintendo and Playstation counterparts, while Playstation games tend to be better critically recieved. Its up to you to determine which of those factors you find more important in a successful game, but for now lets continue by repeating the same thing, but with a game's maximum number of players"
   ]
  },
  {
   "cell_type": "code",
   "execution_count": null,
   "metadata": {},
   "outputs": [],
   "source": [
    "#Repeat previous step but with max players\n",
    "data.boxplot(column = ['Score'], by = 'Players', showfliers = False)\n",
    "data.boxplot(column = ['Sales'], by = 'Players', showfliers = False)\n",
    "data.boxplot(column = ['Playtime'], by = 'Players', showfliers = False)\n",
    "plt.show()"
   ]
  },
  {
   "cell_type": "markdown",
   "metadata": {},
   "source": [
    "Here we see that games that support 4 or more players tend to be both better critically recieved and sell better, but it is the solo games that really keep the players invested. There can be a lot of reasons for this outcome. One reason could be games are more fun when played with friends so people tend to rate the multiplayer games higher and are more likely to recommend them, while solo games may not be as fun but it it much easier to sit and play for a long time when you don't have to work around the schedule of others.  \n",
    "\n",
    "Lets finish off this step with the last factor, game genre:"
   ]
  },
  {
   "cell_type": "code",
   "execution_count": null,
   "metadata": {},
   "outputs": [],
   "source": [
    "#Repeat previous step with genre\n",
    "data.boxplot(column = ['Score'], by = 'Genre', rot = 90, showfliers = False)\n",
    "data.boxplot(column = ['Sales'], by = 'Genre', rot = 90, showfliers = False)\n",
    "data.boxplot(column = ['Playtime'], by = 'Genre', rot = 90, showfliers = False)\n",
    "plt.show()\n"
   ]
  },
  {
   "cell_type": "markdown",
   "metadata": {},
   "source": [
    "Just like the other 2 sets of plots, this shows that different types of games tend to perform better in some categories than they do others. RPG games have by far the most involvement, but barely make any money.\n",
    "\n",
    "These 9 plots give a lot of insight to game performance. They just how differently games can perform depending on what metrics you deem important. For instance, if you only consider success by the amount of money the game makes, 4+ player educational games on the Xbox are definitely the way to go. If you only care about how much people play your game, you should make a solo RPG game on the xbox. And if you just want to impress critics with your game, try a 4+ player racing game on the Playstation."
   ]
  },
  {
   "cell_type": "markdown",
   "metadata": {},
   "source": [
    "<h2>Part 3: Application</h2>\n",
    "\n",
    "We now know how different types of games are received by the public with 9 very specific plots. However, having a lot of detailed data means nothing if we cannot generalize it. We need to figure out how to use this data to determine what the best overall type of game is. The issue is we have no way to say without a doubt that one game is better than another. In order to properly compare games we can no longer have 3 different performance metrics. We need 1 universal score to tell us what games are better than others. To do this we will combine the metrics we find important into a formula in order to rank every game on the list. First lets add a collumn to the table to show how a game ranks in each of the 3 categories."
   ]
  },
  {
   "cell_type": "code",
   "execution_count": null,
   "metadata": {},
   "outputs": [],
   "source": [
    "#Add new columns to diplay the percentile of a games performance\n",
    "data['Score_Rank'] = data['Score'].rank(pct = True)\n",
    "data['Sales_Rank'] = data['Sales'].rank(pct = True)\n",
    "data['Playtime_Rank'] = data['Playtime'].rank(pct = True)\n",
    "data"
   ]
  },
  {
   "cell_type": "markdown",
   "metadata": {},
   "source": [
    "We now have a score for each category from 0 to 1 with its percentile in comparison to every other game on the list. A 0 means it is the lowest of every game on the list and 1 meaning it is the highest. Now we can combine the scores depending on how important we feel each category is in order to receive 1 master ranking list.\n",
    "\n",
    "To continue on with the tutorial you are going to have to determine what you personally feel is important when making a game. This tutorial will take all 3 factors into account equally for the sake of simplicity, but you can very easily exclude categories or weigh them differently if you so chose.\n"
   ]
  },
  {
   "cell_type": "code",
   "execution_count": null,
   "metadata": {},
   "outputs": [],
   "source": [
    "#Change these values as you see fit. The total should still add up to 1\n",
    "score_weight = 1/3\n",
    "sales_weight = 1/3\n",
    "playtime_weight = 1/3\n",
    "\n",
    "#check weights\n",
    "if(score_weight+sales_weight+playtime_weight != 1):\n",
    "    print(\"Warning: Categories are improperly weighted, please make sure all 3 values have a sum of 1\")\n",
    "    \n",
    "#Producing Master Rank column and sort\n",
    "data['Rank'] = (data['Score_Rank']*score_weight)+(data['Sales_Rank']*sales_weight)+(data['Playtime_Rank']*playtime_weight)\n",
    "data = data.sort_values(by = 'Rank', ascending = False)\n",
    "\n",
    "data"
   ]
  },
  {
   "cell_type": "markdown",
   "metadata": {},
   "source": [
    "We now have our list with a column for each games master score, a you can see the percentile does not range exactly from 0-1 because no game was best or worst in all 3 categories, but the games at the ends get pretty close. This ranking system appears to work very well as you can see the top 3 games are Oblivion, Super Smash Brothers, and Grand Theft Auto. These are very well known and popular games, while the games at the bottom are not only games that flopped, but are so bad most people have never even heard of them. \n",
    "\n",
    "Now that we have an acceptable universal metric, we can repeat what we did previously and show how the independant factors influence the performance metrics. The difference this time is that we are now only using 1 performance metric so there is no ambiguity on what games are performing best."
   ]
  },
  {
   "cell_type": "code",
   "execution_count": null,
   "metadata": {},
   "outputs": [],
   "source": [
    "#Repeat boxplot creation with new y metric\n",
    "data.boxplot(column = ['Rank'], by = 'Platform')\n",
    "data.boxplot(column = ['Rank'], by = 'Players')\n",
    "data.boxplot(column = ['Rank'], rot = 90, by = 'Genre')\n",
    "plt.show()"
   ]
  },
  {
   "cell_type": "markdown",
   "metadata": {},
   "source": [
    "We now have results that are much easier to interpret. In an equally weighted ranking, The average 4+ player simulation game on the Xbox performs the best, while single player adventure games developed for Nintendo Consoles perform the worst on average. This is not to say those standards can not be broken, but as a developer it is definitley the safer choice to go with what usually performs better.   \n",
    "\n",
    "<h2>Part 4: Trendline Analysis</h2>\n",
    "A glaring issue with these generalizations is still in that the data is 12-16 years old. We do not know if these results still hold true today. What we can do to mitigate this is group the games by year and try to predict a pattern, we can see what the results would be today if the trend from these selected 5 years continued."
   ]
  },
  {
   "cell_type": "code",
   "execution_count": null,
   "metadata": {},
   "outputs": [],
   "source": [
    "#Function to return the average given a year and variable\n",
    "def get_avg(year, varCol, varVal):\n",
    "    list = []\n",
    "    for i in range(len(data)):\n",
    "        if (data.loc[i,\"Year\"] == year):\n",
    "            if (data.loc[i,varCol] == varVal):\n",
    "                list.append(data.loc[i,\"Rank\"])\n",
    "    if len(list) > 0:\n",
    "        return sum(list)/len(list)\n",
    "    else:\n",
    "        return 0\n",
    "\n",
    "#Function to return a list of the average every year    \n",
    "def get_list(varCol,varVal):\n",
    "    list = []\n",
    "    for i in years:\n",
    "        list.append(get_avg(i,varCol,varVal))     \n",
    "    return list\n",
    "\n",
    "\n",
    "#Create list for every ind variable performance by year\n",
    "years = data['Year'].unique()\n",
    "\n",
    "\n",
    "Nintendo = get_list(\"Platform\", \"Nintendo\")\n",
    "Playstation = get_list(\"Platform\", \"Playstation\")\n",
    "Xbox = get_list(\"Platform\", \"Xbox\")\n",
    "\n",
    "solo = get_list(\"Players\", 1)\n",
    "duo = get_list(\"Players\", 2)\n",
    "group = get_list(\"Players\", 4)\n",
    "\n",
    "Action = get_list(\"Genre\", \"Action\")\n",
    "Adventure = get_list(\"Genre\", \"Adventure\")\n",
    "Ed = get_list(\"Genre\", \"Educational\")\n",
    "Driving = get_list(\"Genre\", \"Racing / Driving\")\n",
    "RPG = get_list(\"Genre\", \"Role-Playing (RPG)\")\n",
    "Sim = get_list(\"Genre\", \"Simulation\")\n",
    "Sports = get_list(\"Genre\", \"Sports\")\n",
    "Strategy = get_list(\"Genre\", \"Strategy\")"
   ]
  },
  {
   "cell_type": "markdown",
   "metadata": {},
   "source": [
    "We now have a list for the average rank of every controlable variable by year. We can use these to make regression lines that can model the predicted values past 2008"
   ]
  },
  {
   "cell_type": "code",
   "execution_count": null,
   "metadata": {},
   "outputs": [],
   "source": [
    "#Function to make and display a regression line to the current plot \n",
    "def make_regr(var, vals):\n",
    "    #Convert list to dataframe\n",
    "    df =  pd.DataFrame(vals, columns = ['Vals'])\n",
    "    df['years'] = years\n",
    "    df = df[df.Vals != 0]\n",
    "    x = df.years.values.reshape(len(df),1)\n",
    "    y = df.Vals.values.reshape(len(df),1)\n",
    "    \n",
    "    #Create prediction model and plot\n",
    "    reg = LinearRegression().fit(x, y)\n",
    "    pred = reg.predict(x)\n",
    "    plt.scatter(x,y)\n",
    "    plt.plot(x,pred, label = var)\n",
    "    \n",
    "    #Return the value the model predicts for the selected year(default year: 2020)\n",
    "    coef = reg.coef_[0][0]\n",
    "    intercept = reg.intercept_[0]\n",
    "    year = 2020 #you can change 2020 to predict any year you like\n",
    "    today = (year*coef)+intercept\n",
    "    return today\n",
    "\n",
    "#Plot the graphs over time while saving what the regression line suggests the value in 2020 would be\n",
    "#Make plot for platform\n",
    "nintendo = make_regr(\"Nintendo\",Nintendo)\n",
    "playstation = make_regr(\"Playtation\", Playstation)\n",
    "xbox = make_regr(\"Xbox\", Xbox)\n",
    "plt.ylabel(\"Score\")\n",
    "plt.xlabel(\"Year\")\n",
    "plt.title(\"Platform Score by year\")\n",
    "plt.legend( loc = 'lower right', borderaxespad=0.)\n",
    "plt.show()\n",
    "\n",
    "#Make plot for player count\n",
    "solo = make_regr(\"Single Player\",solo)\n",
    "duo = make_regr(\"2 Player\", duo)\n",
    "group = make_regr(\"Group Play\", group)\n",
    "plt.ylabel(\"Score\")\n",
    "plt.xlabel(\"Year\")\n",
    "plt.title(\"Player Count Score by year\")\n",
    "plt.legend( loc = 'lower right', borderaxespad=0.)\n",
    "plt.show()\n",
    "\n",
    "#Make plot for Genre\n",
    "#Side note: education needed to be dropped because there were too many years missing to form an accurate regression line\n",
    "action = make_regr(\"Action\",Action)\n",
    "adventure = make_regr(\"Adventure\", Adventure)\n",
    "driving = make_regr(\"Driving\",Driving)\n",
    "rpg = make_regr(\"RPG\", RPG)\n",
    "sim = make_regr(\"Simulation\", Sim)\n",
    "sport = make_regr(\"Sports\",Sports)\n",
    "strat = make_regr(\"Strategy\", Strategy)\n",
    "plt.ylabel(\"Score\")\n",
    "plt.xlabel(\"Year\")\n",
    "plt.title(\"Genre Score by year\")\n",
    "plt.legend( loc = 'lower right', borderaxespad=0.)\n",
    "plt.show()\n",
    "\n",
    "\n"
   ]
  },
  {
   "cell_type": "markdown",
   "metadata": {},
   "source": [
    "Now you can see that the different categories are changing at very different rates over time, but we need to see if any category will change enough by 2020 to declare it the new most popular. We saved the 2020 expected value of each category while generating the regression lines and now we can plot those results."
   ]
  },
  {
   "cell_type": "code",
   "execution_count": null,
   "metadata": {},
   "outputs": [],
   "source": [
    "#Display plot for platform\n",
    "plat = pd.DataFrame([nintendo,playstation,xbox], columns = ['Score'])\n",
    "plat['Platform'] = ['Nintendo', 'Playstation', 'Xbox']\n",
    "ax = plat.plot.bar(x = 'Platform', y = 'Score')\n",
    "plt.ylabel(\"Score\")\n",
    "plt.title(\"Expected 2020 scores by Platform\")\n",
    "plt.show()\n",
    "print(plat)\n",
    "\n",
    "#Display plot for player count\n",
    "play = pd.DataFrame([solo,duo,group], columns = ['Score'])\n",
    "play['Players'] = ['Solo', 'Duo', 'Group']\n",
    "ax = play.plot.bar(x = 'Players', y = 'Score')\n",
    "plt.ylabel(\"Score\")\n",
    "plt.title(\"Expected 2020 scores by Player Count\")\n",
    "plt.show()\n",
    "print(play)\n",
    "\n",
    "#Display plot for genre\n",
    "#Eductaion will use its 2004-2008 average because no accurate prediction could be made\n",
    "Ed[:] = [x for x in Ed if x != 0] \n",
    "ed = sum(Ed)/len(Ed)\n",
    "gen = pd.DataFrame([action,adventure,driving,ed,rpg,sim,sport,strat], columns = ['Score'])\n",
    "gen['Genres'] = ['Action', 'Adventure', 'Driving','Education', 'RPG', 'Simulation', 'Sports', 'Strategy']\n",
    "ax = gen.plot.bar(x = 'Genres', y = 'Score')\n",
    "plt.ylabel(\"Score\")\n",
    "plt.title(\"Expected 2020 scores by Genre\")\n",
    "plt.show()\n",
    "print(gen)\n"
   ]
  },
  {
   "cell_type": "markdown",
   "metadata": {},
   "source": [
    "These results are much different from the results we saw based entirely on the 2004-2008 averages. Group games appear to still be the highest scoring games, but now the top spot goes to racing/driving games on the playstation. This shows just how important it is to not only look at statistics, but also analyze trendlines and make predictions. Just by looking at the averages we thought the best game to make was a simulation game on the xbox, but the trendlines showed that both that genre and platform we not gaining popularity anywhere near the rate of others. You can use this type of analysis to stay ahead of the competition and create games designed to have a successful future, rather than pander to what is popular at the moment.\n",
    "\n",
    "Now we do not have the data leading all the way up to 2020 so we do not know how accurate these predictions are, but at first glance there does seem to be some merit to them. Here is a chart of the Xbox 1, Playstation 4, and Nintendo Switch console sales over the past few years..."
   ]
  },
  {
   "cell_type": "markdown",
   "metadata": {},
   "source": [
    "![image](Console_Sales.png)"
   ]
  },
  {
   "cell_type": "markdown",
   "metadata": {},
   "source": [
    "This chart verifies that our prediction of increasing Playstation popularity was not just a 5 year fluke. Playstation consoles have grown far more popular than the other 2 over the past decade, which is exactly what our trendline predicted. And increasing console popularity can almost guarantee that the games released on that platform will sell more copies as a result.\n",
    "\n",
    "So now you are equipped with the tools you need to predict game success. You can go back through and replicate this tutorial on your own if you wish to make modifications based on prsonal ideas. You can change the weights of the ranking system to lean heavier on the metrics you feel are more important. You can also run the predictive bar graphs on years other than 2020, so if a game is going to take you a few years to make you know what the market will be like on release. You can also import more recent data (as long as it contains the same information we used) in order to make a more up to date trendline. It is up to you to design the best game possible and you have all the data right here to do it.  "
   ]
  }
 ],
 "metadata": {
  "kernelspec": {
   "display_name": "Python 3",
   "language": "python",
   "name": "python3"
  },
  "language_info": {
   "codemirror_mode": {
    "name": "ipython",
    "version": 3
   },
   "file_extension": ".py",
   "mimetype": "text/x-python",
   "name": "python",
   "nbconvert_exporter": "python",
   "pygments_lexer": "ipython3",
   "version": "3.8.3"
  }
 },
 "nbformat": 4,
 "nbformat_minor": 4
}
